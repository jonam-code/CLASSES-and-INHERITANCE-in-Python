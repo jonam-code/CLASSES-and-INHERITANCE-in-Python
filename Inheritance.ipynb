{
 "cells": [
  {
   "cell_type": "code",
   "execution_count": 84,
   "metadata": {},
   "outputs": [],
   "source": [
    "# Python program for Inheritance \n",
    "\n",
    "#Level 1\n",
    "class Organization: \n",
    "    OrganizationName = \"Infosys\"\n",
    "    def Org(self): \n",
    "        print(self.OrganizationName)"
   ]
  },
  {
   "cell_type": "code",
   "execution_count": 85,
   "metadata": {},
   "outputs": [],
   "source": [
    "# Level which represented by level one department\n",
    "class Design(Organization): \n",
    "    def DSN(self): \n",
    "        print(\"Design specific function-LEVEL 2\") \n",
    "\n",
    "class IT(Organization): \n",
    "    def IT(self): \n",
    "        print(\"Information technology specific function-LEVEL 2\") \n",
    "\n",
    "class Finance(Organization): \n",
    "    FinanceOfficer = \"\" \n",
    "    def FIN(self): \n",
    "        print(self.FinanceOfficer)  "
   ]
  },
  {
   "cell_type": "code",
   "execution_count": 86,
   "metadata": {},
   "outputs": [],
   "source": [
    "#Level which represented by level two (Design, IT, Finance)\n",
    "class JointProject(Design, IT): \n",
    "    def JointProject(self):\n",
    "        print(\"This function is in student 3.\") \n",
    "\n",
    "        \n",
    "class SubFinance(Finance): \n",
    "    def SubFinance(self): \n",
    "        print(\"Department Name :\", self.OrganizationName) \n",
    "        print(\"Father :\", self.FinanceOfficer)\n",
    "        print()\n",
    "        print(\"Example of Multilevel Inheritance called successfully\")"
   ]
  },
  {
   "cell_type": "code",
   "execution_count": 87,
   "metadata": {},
   "outputs": [
    {
     "name": "stdout",
     "output_type": "stream",
     "text": [
      "Design specific function-LEVEL 2\n",
      "Information technology specific function-LEVEL 2\n",
      "Design specific function-LEVEL 2\n",
      "Information technology specific function-LEVEL 2\n"
     ]
    }
   ],
   "source": [
    "# Hierarchical\n",
    "Design = Design() \n",
    "IT = IT() \n",
    "Design.DSN() \n",
    "IT.IT()\n",
    "Design.DSN() \n",
    "IT.IT()"
   ]
  },
  {
   "cell_type": "code",
   "execution_count": 88,
   "metadata": {},
   "outputs": [
    {
     "name": "stdout",
     "output_type": "stream",
     "text": [
      "Design specific function-LEVEL 2\n",
      "Information technology specific function-LEVEL 2\n"
     ]
    }
   ],
   "source": [
    "# Hybrid  \n",
    "JointProject = JointProject() \n",
    "JointProject.DSN() \n",
    "JointProject.IT() "
   ]
  },
  {
   "cell_type": "code",
   "execution_count": 89,
   "metadata": {},
   "outputs": [
    {
     "name": "stdout",
     "output_type": "stream",
     "text": [
      "Department Name : Infosys Inc.\n",
      "Father : Keith Minne\n",
      "\n",
      "Example of Multilevel Inheritance called successfully\n"
     ]
    }
   ],
   "source": [
    "# Multilevel\n",
    "SubFinance = SubFinance() \n",
    "SubFinance.OrganizationName = \"Infosys Inc.\"\n",
    "SubFinance.FinanceOfficer = \"Keith Minne\"\n",
    "SubFinance.SubFinance()"
   ]
  },
  {
   "cell_type": "code",
   "execution_count": 90,
   "metadata": {},
   "outputs": [],
   "source": [
    "class Organization: \n",
    "    def __init__(self):\n",
    "        self.Organization = input(\"Please give the Organization name: \")\n",
    "        self.Years = input(\"Organization serving since : \")\n",
    "    def Organization(self): \n",
    "        print(\"Welcome to :{0}\".format(self.Organization))\n",
    "        print(\"Serving Since :{0}\".format(self.Years))"
   ]
  },
  {
   "cell_type": "code",
   "execution_count": 91,
   "metadata": {},
   "outputs": [],
   "source": [
    "class Design(Organization):\n",
    "    def __init__(self):\n",
    "        self.VerticalHead = input(\"Current Vertical Head for Design: \")\n",
    "        self.Project = input(\"No. of the ongoing project : \")\n",
    "    def DSN(self): \n",
    "        print(\"Our honourable DSN Vertical Head :{0}\".format(self.VerticalHead))\n",
    "        print(\"Project undertaken :{0}\".format(self.Project))\n",
    "\n",
    "class IT(Organization): \n",
    "    def __init__(self):\n",
    "        self.ProjectName = input(\"Name of the ongoing project : \")\n",
    "        self.ProjectManager = input(\"Name of the project manager : \")\n",
    "    def IT(self): \n",
    "        print(\"Project Name :{0}\".format(self.ProjectName))\n",
    "        print(\"Project undertaken by PM :{0}\".format(self.ProjectManager))\n",
    "\n",
    "class Finance(Organization): \n",
    "    def __init__(self):\n",
    "        self.ChiefFinancier = input(\"Chief Financier of the Project : \")\n",
    "        self.SubFinancier = input(\"sponsor of the Project : \")\n",
    "\n",
    "    def FIN(self): \n",
    "        print(\"Chief Financier of the project :{0}\".format(self.ChiefFinancier))\n",
    "        print(\"Sponsor :{0}\".format(self.SubFinancier))"
   ]
  },
  {
   "cell_type": "code",
   "execution_count": 92,
   "metadata": {},
   "outputs": [],
   "source": [
    "class Project(Design, IT, Finance):\n",
    "    def __init__(self):\n",
    "        Design.__init__(self)\n",
    "        self.ProjectStatus = input(\"Status of the project: \")\n",
    "        self.Actual = input(\"No. of Actual days: \")\n",
    "        self.Pending = input(\"No. of Remaining days: \")\n",
    "        IT.__init__(self)\n",
    "        Finance.__init__(self)\n",
    "    def Project_details(self):\n",
    "        print(\"Project and it's complete attributes\")\n",
    "        Design.DSN(self)\n",
    "        IT.IT(self)\n",
    "        Finance.FIN(self)"
   ]
  },
  {
   "cell_type": "code",
   "execution_count": 93,
   "metadata": {},
   "outputs": [
    {
     "name": "stdout",
     "output_type": "stream",
     "text": [
      "Current Vertical Head for Design: Phil Frederick\n",
      "No. of the ongoing project : 7\n",
      "Status of the project: Assumed Completed\n",
      "No. of Actual days: 21\n",
      "No. of Remaining days: 7\n",
      "Name of the ongoing project : MSc Data science\n",
      "Name of the project manager : Christ University\n",
      "Chief Financier of the Project : Roshan benazer\n",
      "sponsor of the Project : Benjamin Frank Wang\n",
      "Project and it's complete attributes\n",
      "Our honourable DSN Vertical Head :Phil Frederick\n",
      "Project undertaken :7\n",
      "Project Name :MSc Data science\n",
      "Project undertaken by PM :Christ University\n",
      "Chief Financier of the project :Roshan benazer\n",
      "Sponsor :Benjamin Frank Wang\n"
     ]
    }
   ],
   "source": [
    "ProjectDetails = Project()\n",
    "ProjectDetails.Project_details()"
   ]
  },
  {
   "cell_type": "code",
   "execution_count": null,
   "metadata": {},
   "outputs": [],
   "source": []
  }
 ],
 "metadata": {
  "kernelspec": {
   "display_name": "Python 3",
   "language": "python",
   "name": "python3"
  },
  "language_info": {
   "codemirror_mode": {
    "name": "ipython",
    "version": 3
   },
   "file_extension": ".py",
   "mimetype": "text/x-python",
   "name": "python",
   "nbconvert_exporter": "python",
   "pygments_lexer": "ipython3",
   "version": "3.8.3"
  }
 },
 "nbformat": 4,
 "nbformat_minor": 4
}
